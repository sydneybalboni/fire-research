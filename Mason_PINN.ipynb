{
 "cells": [
  {
   "cell_type": "code",
   "execution_count": null,
   "id": "48bbfc9e",
   "metadata": {},
   "outputs": [],
   "source": [
    "%pip install tensorflow-gpu"
   ]
  },
  {
   "cell_type": "code",
   "execution_count": null,
   "id": "7a14dc6d",
   "metadata": {
    "scrolled": false
   },
   "outputs": [],
   "source": [
    "import os\n",
    "import tensorflow as tf\n",
    "import numpy as np\n",
    "import math\n",
    "from tensorflow.keras.layers import Dense, Input\n",
    "from tensorflow.keras.models import Model\n",
    "from tensorflow.keras.preprocessing import image\n",
    "from tensorflow.keras.callbacks import LearningRateScheduler"
   ]
  },
  {
   "cell_type": "code",
   "execution_count": null,
   "id": "9b62949d",
   "metadata": {},
   "outputs": [],
   "source": [
    "def build_pinn(input_shape=(64, 64, 64, 4)):\n",
    "    inputs = layers.Input(shape=input_shape)\n",
    "    \n",
    "    x = layers.Dense(64, activation='tanh')(inputs)\n",
    "    x = layers.Dense(64, activation='tanh')(x)\n",
    "    x = layers.Dense(64, activation='tanh')(x)\n",
    "    \n",
    "    outputs = layers.Dense(1, activation=None)(x)  # No activation for PDE solution\n",
    "    \n",
    "    return Model(inputs, outputs)"
   ]
  },
  {
   "cell_type": "code",
   "execution_count": null,
   "id": "fc739dba",
   "metadata": {},
   "outputs": [],
   "source": [
    "def compute_physics_residual(x, y_pred):\n",
    "    \"\"\"Compute the residual of the PDE for fire spread\"\"\"\n",
    "    with tf.GradientTape(persistent=True) as tape:\n",
    "        tape.watch(x)  # Watch the input tensor x to compute gradients with respect to it\n",
    "        tape.watch(y_pred)  # Watch y_pred (fire intensity) for derivatives\n",
    "\n",
    "        # Assuming y_pred is fire intensity, compute the first derivative (gradient)\n",
    "        grad = tape.gradient(y_pred, x)  # Gradient of y_pred w.r.t. input x (spatial derivatives)\n",
    "        laplacian = tf.reduce_sum(grad**2, axis=-1)  # Approximate Laplacian (second spatial derivative)\n",
    "\n",
    "    # Compute reaction term (you can adjust this based on your PDE)\n",
    "    reaction_term = y_pred * (1 - y_pred)  # Example nonlinear reaction term\n",
    "\n",
    "    # Combine them to get the PDE residual\n",
    "    residual = laplacian + reaction_term  # For example, a simple reaction-diffusion model\n",
    "\n",
    "    return residual"
   ]
  },
  {
   "cell_type": "code",
   "execution_count": null,
   "id": "f6ffb2e9",
   "metadata": {},
   "outputs": [],
   "source": [
    "def pinn_loss(y_true, y_pred, residual):\n",
    "    data_loss = tf.keras.losses.MSE(y_true, y_pred)  # Mean squared error on labeled data\n",
    "    physics_loss = tf.reduce_mean(tf.square(residual))  # Physics constraint (PDE residual)\n",
    "    return data_loss + physics_loss\n",
    "    "
   ]
  },
  {
   "cell_type": "code",
   "execution_count": null,
   "id": "baa92034",
   "metadata": {},
   "outputs": [],
   "source": [
    "def load_tiff_image(file_path):\n",
    "    \"\"\"Load a .tiff image and normalize it.\"\"\"\n",
    "    img = tf.io.read_file(file_path)\n",
    "    img = tf.image.decode_tiff(img, channels=4)  # Assuming 4 channels (e.g., fire, wind, terrain, etc.)\n",
    "    img = tf.image.resize(img, [64, 64])  # Resize to the expected input shape\n",
    "    img = img / 255.0  # Normalize to [0, 1]\n",
    "    return img"
   ]
  },
  {
   "cell_type": "code",
   "execution_count": null,
   "id": "7ccf6fc3",
   "metadata": {},
   "outputs": [],
   "source": [
    "# Example of loading all .tiff files in a directory\n",
    "def load_data_from_directory(directory):\n",
    "    \"\"\"Load .tiff files into a dataset.\"\"\"\n",
    "    file_paths = [os.path.join(directory, fname) for fname in os.listdir(directory) if fname.endswith('.tiff')]\n",
    "    images = [load_tiff_image(f) for f in file_paths]\n",
    "    return tf.data.Dataset.from_tensor_slices(np.array(images))"
   ]
  },
  {
   "cell_type": "code",
   "execution_count": null,
   "id": "353838dd",
   "metadata": {},
   "outputs": [],
   "source": [
    "# Load and prepare the dataset\n",
    "train_dataset = load_data_from_directory('/data/ai_club/fire/WildfireSpreadLS/2018/fire_21458798')\n",
    "train_dataset = train_dataset.batch(2).repeat()  # Batch and repeat for training"
   ]
  },
  {
   "cell_type": "code",
   "execution_count": null,
   "id": "431f079a",
   "metadata": {},
   "outputs": [],
   "source": [
    "# Cosine annealing learning rate scheduler\n",
    "def cosine_annealing(epoch, lr, T_max=50, eta_min=1e-6):\n",
    "    return eta_min + (lr - eta_min) * (1 + math.cos(math.pi * epoch / T_max)) / 2\n",
    "\n",
    "lr_scheduler = LearningRateScheduler(lambda epoch, lr: cosine_annealing(epoch, lr, 50))\n",
    "\n",
    "# Set up the optimizer and custom training loop\n",
    "optimizer = tf.keras.optimizers.Adam(learning_rate=1e-4)\n",
    "\n",
    "@tf.function\n",
    "def train_step(x_train, y_train, model):\n",
    "    with tf.GradientTape() as tape:\n",
    "        y_pred = model(x_train, training=True)\n",
    "        # Compute physics residual here (e.g., fire propagation PDE)\n",
    "        physics_residual = compute_physics_residual(x_train, y_pred)\n",
    "        loss = pinn_loss(y_train, y_pred, physics_residual)\n",
    "    grads = tape.gradient(loss, model.trainable_variables)\n",
    "    optimizer.apply_gradients(zip(grads, model.trainable_variables))\n",
    "    return loss\n",
    "\n",
    "# Placeholder training loop\n",
    "for epoch in range(10):\n",
    "    for x_batch, y_batch in train_dataset:\n",
    "        loss = train_step(x_batch, y_batch, model)\n",
    "        print(f'Epoch {epoch}, Loss: {loss}')"
   ]
  }
 ],
 "metadata": {
  "kernelspec": {
   "display_name": "Python 3 (ipykernel)",
   "language": "python",
   "name": "python3"
  },
  "language_info": {
   "codemirror_mode": {
    "name": "ipython",
    "version": 3
   },
   "file_extension": ".py",
   "mimetype": "text/x-python",
   "name": "python",
   "nbconvert_exporter": "python",
   "pygments_lexer": "ipython3",
   "version": "3.10.12"
  }
 },
 "nbformat": 4,
 "nbformat_minor": 5
}
