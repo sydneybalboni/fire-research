{
 "cells": [
  {
   "cell_type": "code",
   "execution_count": 1,
   "id": "6b6c9422",
   "metadata": {
    "scrolled": true
   },
   "outputs": [],
   "source": [
    "# Uncomment the line below and run if you are missing the rasterio package. \n",
    "# You might need to restart your kernel after for it to work\n",
    "\n",
    "# %pip install rasterio\n",
    "# %pip install scikit-image"
   ]
  },
  {
   "cell_type": "code",
   "execution_count": 2,
   "id": "afe4a30e",
   "metadata": {},
   "outputs": [
    {
     "name": "stderr",
     "output_type": "stream",
     "text": [
      "2025-02-12 00:44:54.441349: I tensorflow/core/util/port.cc:113] oneDNN custom operations are on. You may see slightly different numerical results due to floating-point round-off errors from different computation orders. To turn them off, set the environment variable `TF_ENABLE_ONEDNN_OPTS=0`.\n",
      "2025-02-12 00:44:54.480773: E external/local_xla/xla/stream_executor/cuda/cuda_dnn.cc:9373] Unable to register cuDNN factory: Attempting to register factory for plugin cuDNN when one has already been registered\n",
      "2025-02-12 00:44:54.480802: E external/local_xla/xla/stream_executor/cuda/cuda_fft.cc:607] Unable to register cuFFT factory: Attempting to register factory for plugin cuFFT when one has already been registered\n",
      "2025-02-12 00:44:54.481882: E external/local_xla/xla/stream_executor/cuda/cuda_blas.cc:1534] Unable to register cuBLAS factory: Attempting to register factory for plugin cuBLAS when one has already been registered\n",
      "2025-02-12 00:44:54.487930: I tensorflow/core/platform/cpu_feature_guard.cc:183] This TensorFlow binary is optimized to use available CPU instructions in performance-critical operations.\n",
      "To enable the following instructions: SSE3 SSE4.1 SSE4.2 AVX, in other operations, rebuild TensorFlow with the appropriate compiler flags.\n"
     ]
    }
   ],
   "source": [
    "import tensorflow as tf\n",
    "import numpy as np\n",
    "import rasterio\n",
    "import os\n",
    "from sklearn.model_selection import train_test_split\n",
    "import matplotlib.pyplot as plt\n",
    "from sklearn.model_selection import train_test_split\n",
    "\n",
    "from wildfire_preprocess import create_sequences"
   ]
  },
  {
   "cell_type": "code",
   "execution_count": 3,
   "id": "e5572022",
   "metadata": {},
   "outputs": [
    {
     "name": "stdout",
     "output_type": "stream",
     "text": [
      "Number of bands: 23\n",
      "Band M11: min=85.0, max=8129.0\n",
      "Band I2: min=439.0, max=5024.0\n",
      "Band I1: min=-100.0, max=3849.0\n",
      "Band NDVI_last: min=nan, max=nan\n",
      "Band EVI2_last: min=nan, max=nan\n",
      "Band total precipitation: min=nan, max=nan\n",
      "Band wind speed: min=nan, max=nan\n",
      "Band wind direction: min=nan, max=nan\n",
      "Band minimum temperature: min=nan, max=nan\n",
      "Band maximum temperature: min=nan, max=nan\n",
      "Band energy release component: min=nan, max=nan\n",
      "Band specific humidity: min=nan, max=nan\n",
      "Band slope: min=nan, max=nan\n",
      "Band aspect: min=nan, max=nan\n",
      "Band elevation: min=nan, max=nan\n",
      "Band pdsi: min=nan, max=nan\n",
      "Band LC_Type1: min=1.0, max=17.0\n",
      "Band total_precipitation_surface_sum: min=0.0, max=3.375\n",
      "Band forecast wind speed: min=0.6297666430473328, max=2.8383054733276367\n",
      "Band forecast wind direction: min=-86.51997375488281, max=88.85616302490234\n",
      "Band forecast temperature: min=14.965868949890137, max=18.317867279052734\n",
      "Band forecast specific humidity: min=0.007220204453915358, max=0.008270804770290852\n",
      "Band active fire: min=nan, max=nan\n"
     ]
    }
   ],
   "source": [
    "# Open the TIFF file\n",
    "with rasterio.open('/data/ai_club/fire/WildfireSpreadLS/2018/fire_21889697/2018-08-25.tif') as src:\n",
    "    print(f\"Number of bands: {src.count}\")\n",
    "    \n",
    "    # Print metadata for each band\n",
    "    for i in range(1, src.count + 1):\n",
    "        description = src.descriptions[i - 1]  # Band descriptions (if available)\n",
    "        band_data = src.read(i)  # Read band i\n",
    "        print(f\"Band {description}: min={band_data.min()}, max={band_data.max()}\")"
   ]
  },
  {
   "cell_type": "code",
   "execution_count": 4,
   "id": "be827c10",
   "metadata": {},
   "outputs": [],
   "source": [
    "fire_name = '2018/fire_21889697' # The fire with the most files"
   ]
  },
  {
   "cell_type": "code",
   "execution_count": 5,
   "id": "59d8b54a",
   "metadata": {},
   "outputs": [
    {
     "name": "stdout",
     "output_type": "stream",
     "text": [
      "Total files found: 94\n",
      "Train Sequences Shape: (67, 3, 300, 220, 23)\n",
      "Train Labels Shape: (67, 300, 220, 1)\n",
      "Val Sequences Shape: (17, 3, 300, 220, 23)\n",
      "Val Labels Shape: (17, 300, 220, 1)\n"
     ]
    }
   ],
   "source": [
    "# Directory where the TIFF files are stored\n",
    "data_dir = f\"/data/ai_club/fire/WildfireSpreadLS/{fire_name}\"  # Replace with the actual path if needed\n",
    "\n",
    "# Get the list of all .tif files in the directory\n",
    "file_paths = sorted([os.path.join(data_dir, f) for f in os.listdir(data_dir) if f.endswith(\".tif\")])\n",
    "\n",
    "# Ensure the files are sorted by date to maintain temporal order\n",
    "print(f\"Total files found: {len(file_paths)}\")\n",
    "\n",
    "# Create sequences and labels\n",
    "sequence_length = 3  # Length of input sequence\n",
    "train_sequences, train_labels = create_sequences(file_paths, sequence_length=sequence_length)\n",
    "\n",
    "# Split data into training and validation sets (80% training, 20% validation)\n",
    "train_sequences, val_sequences, train_labels, val_labels = train_test_split(\n",
    "    train_sequences, train_labels, test_size=0.2, random_state=42\n",
    ")\n",
    "\n",
    "train_labels = np.expand_dims(train_labels, axis=-1)  # Add channel dimension: (N, H, W, 1)\n",
    "val_labels = np.expand_dims(val_labels, axis=-1)  # Add channel dimension: (N, H, W, 1)\n",
    "\n",
    "# Verify shapes before training\n",
    "print(\"Train Sequences Shape:\", train_sequences.shape)  # Should be (N, 3, 300, 220, 23)\n",
    "print(\"Train Labels Shape:\", train_labels.shape)       # Should be (N, 300, 220, 1)\n",
    "print(\"Val Sequences Shape:\", val_sequences.shape)     # Should be (N, 3, 300, 220, 23)\n",
    "print(\"Val Labels Shape:\", val_labels.shape)   "
   ]
  },
  {
   "cell_type": "code",
   "execution_count": 6,
   "id": "fa3b57ea",
   "metadata": {},
   "outputs": [],
   "source": [
    "def build_unet(input_shape):\n",
    "    inputs = tf.keras.Input(shape=input_shape)\n",
    "    \n",
    "    # Split inputs by feature groups for specialized processing\n",
    "    # Indices based on the dataset description\n",
    "    viirs_features = inputs[..., :3]  # VIIRS bands (I1, I2, M11)\n",
    "    weather_features = inputs[..., 3:13]  # GRIDMET features\n",
    "    forecast_features = inputs[..., 13:18]  # GFS features\n",
    "    static_features = inputs[..., 18:]  # Land cover, elevation, etc.\n",
    "    \n",
    "    # Encoder with separate paths for different feature types\n",
    "    def encoder_block(x, filters, name):\n",
    "        x = tf.keras.layers.Conv3D(filters, (3, 3, 3), activation='relu', padding='same', name=f'{name}_conv1')(x)\n",
    "        x = tf.keras.layers.BatchNormalization(name=f'{name}_bn1')(x)\n",
    "        x = tf.keras.layers.Conv3D(filters, (3, 3, 3), activation='relu', padding='same', name=f'{name}_conv2')(x)\n",
    "        x = tf.keras.layers.BatchNormalization(name=f'{name}_bn2')(x)\n",
    "        skip = x\n",
    "        x = tf.keras.layers.MaxPooling3D((1, 2, 2), name=f'{name}_pool')(x)\n",
    "        return x, skip\n",
    "    \n",
    "    # Process different feature groups\n",
    "    viirs_enc1, viirs_skip1 = encoder_block(viirs_features, 32, 'viirs1')\n",
    "    viirs_enc2, viirs_skip2 = encoder_block(viirs_enc1, 64, 'viirs2')\n",
    "    \n",
    "    weather_enc1, weather_skip1 = encoder_block(weather_features, 32, 'weather1')\n",
    "    weather_enc2, weather_skip2 = encoder_block(weather_enc1, 64, 'weather2')\n",
    "    \n",
    "    # Combine features\n",
    "    combined = tf.keras.layers.Concatenate()([viirs_enc2, weather_enc2])\n",
    "    \n",
    "    # Bridge\n",
    "    bridge = tf.keras.layers.Conv3D(128, (3, 3, 3), activation='relu', padding='same')(combined)\n",
    "    bridge = tf.keras.layers.BatchNormalization()(bridge)\n",
    "    bridge = tf.keras.layers.SpatialDropout3D(0.3)(bridge)  # Add dropout to prevent overfitting\n",
    "    \n",
    "    # Decoder with attention\n",
    "    def attention_block(x, skip_connection):\n",
    "        g1 = tf.keras.layers.Conv3D(x.shape[-1], (1, 1, 1))(skip_connection)\n",
    "        g1 = tf.keras.layers.BatchNormalization()(g1)\n",
    "        x1 = tf.keras.layers.Conv3D(x.shape[-1], (1, 1, 1))(x)\n",
    "        x1 = tf.keras.layers.BatchNormalization()(x1)\n",
    "        psi = tf.keras.layers.Activation('relu')(g1 + x1)\n",
    "        psi = tf.keras.layers.Conv3D(1, (1, 1, 1))(psi)\n",
    "        psi = tf.keras.layers.Activation('sigmoid')(psi)\n",
    "        return skip_connection * psi\n",
    "    \n",
    "    # Decoder\n",
    "    def decoder_block(x, skip, filters):\n",
    "        x = tf.keras.layers.Conv3DTranspose(filters, (3, 3, 3), strides=(1, 2, 2), padding='same')(x)\n",
    "        attention = attention_block(x, skip)\n",
    "        x = tf.keras.layers.Concatenate()([x, attention])\n",
    "        x = tf.keras.layers.Conv3D(filters, (3, 3, 3), activation='relu', padding='same')(x)\n",
    "        x = tf.keras.layers.BatchNormalization()(x)\n",
    "        return x\n",
    "    \n",
    "    # Decoder path\n",
    "    dec1 = decoder_block(bridge, tf.keras.layers.Concatenate()([viirs_skip2, weather_skip2]), 64)\n",
    "    dec2 = decoder_block(dec1, tf.keras.layers.Concatenate()([viirs_skip1, weather_skip1]), 32)\n",
    "    \n",
    "    # Final convolution with class balancing\n",
    "    outputs = tf.keras.layers.Conv3D(1, (3, 1, 1), padding='valid')(dec2)\n",
    "    outputs = tf.keras.layers.Reshape((300, 220, 1))(outputs)\n",
    "    outputs = tf.keras.layers.Activation('sigmoid')(outputs)\n",
    "    \n",
    "    model = tf.keras.Model(inputs, outputs)\n",
    "    \n",
    "    # Custom weighted loss combining focal loss and IoU loss\n",
    "    def combined_loss(y_true, y_pred):\n",
    "        # Focal loss component\n",
    "        alpha = 0.75  # Give more weight to fire pixels since they're rare\n",
    "        gamma = 2.0\n",
    "        epsilon = tf.keras.backend.epsilon()\n",
    "        y_pred = tf.clip_by_value(y_pred, epsilon, 1 - epsilon)\n",
    "        focal = -alpha * y_true * tf.pow(1 - y_pred, gamma) * tf.math.log(y_pred) - \\\n",
    "                (1 - alpha) * (1 - y_true) * tf.pow(y_pred, gamma) * tf.math.log(1 - y_pred)\n",
    "        \n",
    "        # IoU loss component\n",
    "        intersection = tf.reduce_sum(y_true * y_pred)\n",
    "        union = tf.reduce_sum(y_true) + tf.reduce_sum(y_pred) - intersection\n",
    "        iou = (intersection + epsilon) / (union + epsilon)\n",
    "        iou_loss = 1 - iou\n",
    "        \n",
    "        # Combine losses\n",
    "        return tf.reduce_mean(focal) + iou_loss\n",
    "    \n",
    "    model.compile(\n",
    "        optimizer=tf.keras.optimizers.Adam(learning_rate=1e-4, clipnorm=1.0),\n",
    "        loss=combined_loss,\n",
    "        metrics=['accuracy', iou_metric]\n",
    "    )\n",
    "    \n",
    "    return model"
   ]
  },
  {
   "cell_type": "code",
   "execution_count": 7,
   "id": "68a750b3",
   "metadata": {
    "scrolled": true
   },
   "outputs": [
    {
     "name": "stderr",
     "output_type": "stream",
     "text": [
      "2025-02-12 00:45:47.042044: I tensorflow/core/common_runtime/gpu/gpu_device.cc:1926] Created device /job:localhost/replica:0/task:0/device:GPU:0 with 13750 MB memory:  -> device: 0, name: Tesla T4, pci bus id: 0000:60:00.0, compute capability: 7.5\n",
      "2025-02-12 00:45:47.044323: I tensorflow/core/common_runtime/gpu/gpu_device.cc:1926] Created device /job:localhost/replica:0/task:0/device:GPU:1 with 13750 MB memory:  -> device: 1, name: Tesla T4, pci bus id: 0000:61:00.0, compute capability: 7.5\n",
      "2025-02-12 00:45:47.046284: I tensorflow/core/common_runtime/gpu/gpu_device.cc:1926] Created device /job:localhost/replica:0/task:0/device:GPU:2 with 13750 MB memory:  -> device: 2, name: Tesla T4, pci bus id: 0000:da:00.0, compute capability: 7.5\n",
      "2025-02-12 00:45:47.048356: I tensorflow/core/common_runtime/gpu/gpu_device.cc:1926] Created device /job:localhost/replica:0/task:0/device:GPU:3 with 13750 MB memory:  -> device: 3, name: Tesla T4, pci bus id: 0000:db:00.0, compute capability: 7.5\n"
     ]
    },
    {
     "name": "stdout",
     "output_type": "stream",
     "text": [
      "Epoch 1/10\n"
     ]
    },
    {
     "name": "stderr",
     "output_type": "stream",
     "text": [
      "2025-02-12 00:45:51.971511: I external/local_xla/xla/stream_executor/cuda/cuda_dnn.cc:467] Loaded cuDNN version 90100\n",
      "2025-02-12 00:45:56.238529: I external/local_xla/xla/service/service.cc:168] XLA service 0x7f119b2da2a0 initialized for platform CUDA (this does not guarantee that XLA will be used). Devices:\n",
      "2025-02-12 00:45:56.238568: I external/local_xla/xla/service/service.cc:176]   StreamExecutor device (0): Tesla T4, Compute Capability 7.5\n",
      "2025-02-12 00:45:56.238573: I external/local_xla/xla/service/service.cc:176]   StreamExecutor device (1): Tesla T4, Compute Capability 7.5\n",
      "2025-02-12 00:45:56.238577: I external/local_xla/xla/service/service.cc:176]   StreamExecutor device (2): Tesla T4, Compute Capability 7.5\n",
      "2025-02-12 00:45:56.238581: I external/local_xla/xla/service/service.cc:176]   StreamExecutor device (3): Tesla T4, Compute Capability 7.5\n",
      "2025-02-12 00:45:56.249263: I tensorflow/compiler/mlir/tensorflow/utils/dump_mlir_util.cc:269] disabling MLIR crash reproducer, set env var `MLIR_CRASH_REPRODUCER_DIRECTORY` to enable.\n",
      "WARNING: All log messages before absl::InitializeLog() is called are written to STDERR\n",
      "I0000 00:00:1739339156.351773  116634 device_compiler.h:186] Compiled cluster using XLA!  This line is logged at most once for the lifetime of the process.\n"
     ]
    },
    {
     "name": "stdout",
     "output_type": "stream",
     "text": [
      "17/17 [==============================] - 18s 524ms/step - loss: -10.5809 - accuracy: 1.6961e-04 - val_loss: -15.3267 - val_accuracy: 2.9590e-04\n",
      "Epoch 2/10\n",
      "17/17 [==============================] - 5s 317ms/step - loss: -15.3157 - accuracy: 1.7277e-04 - val_loss: -15.3267 - val_accuracy: 2.9590e-04\n",
      "Epoch 3/10\n",
      "17/17 [==============================] - 3s 186ms/step - loss: -15.3157 - accuracy: 1.7277e-04 - val_loss: -15.3267 - val_accuracy: 2.9590e-04\n",
      "Epoch 4/10\n",
      "17/17 [==============================] - 3s 174ms/step - loss: -15.3157 - accuracy: 1.7277e-04 - val_loss: -15.3267 - val_accuracy: 2.9590e-04\n",
      "Epoch 5/10\n",
      "17/17 [==============================] - 3s 174ms/step - loss: -15.3157 - accuracy: 1.7277e-04 - val_loss: -15.3267 - val_accuracy: 2.9590e-04\n",
      "Epoch 6/10\n",
      "17/17 [==============================] - 3s 173ms/step - loss: -15.3157 - accuracy: 1.7277e-04 - val_loss: -15.3267 - val_accuracy: 2.9590e-04\n",
      "Epoch 7/10\n",
      "17/17 [==============================] - 3s 175ms/step - loss: -15.3157 - accuracy: 1.7277e-04 - val_loss: -15.3267 - val_accuracy: 2.9590e-04\n",
      "Epoch 8/10\n",
      "17/17 [==============================] - 3s 175ms/step - loss: -15.3157 - accuracy: 1.7277e-04 - val_loss: -15.3267 - val_accuracy: 2.9590e-04\n",
      "Epoch 9/10\n",
      "17/17 [==============================] - 3s 176ms/step - loss: -15.3157 - accuracy: 1.7277e-04 - val_loss: -15.3267 - val_accuracy: 2.9590e-04\n",
      "Epoch 10/10\n",
      "17/17 [==============================] - 3s 176ms/step - loss: -15.3157 - accuracy: 1.7277e-04 - val_loss: -15.3267 - val_accuracy: 2.9590e-04\n"
     ]
    }
   ],
   "source": [
    "# Calculate class weights based on dataset statistics\n",
    "# From the paper, we know there's significant class imbalance\n",
    "pos_weight = np.sum(train_labels == 0) / (np.sum(train_labels == 1) + 1e-6)\n",
    "class_weight = {0: 1.0, 1: pos_weight}\n",
    "\n",
    "# Add more sophisticated callbacks\n",
    "callbacks = [\n",
    "    tf.keras.callbacks.EarlyStopping(\n",
    "        monitor='val_iou_metric',\n",
    "        patience=10,\n",
    "        mode='max',\n",
    "        restore_best_weights=True\n",
    "    ),\n",
    "    tf.keras.callbacks.ReduceLROnPlateau(\n",
    "        monitor='val_iou_metric',\n",
    "        factor=0.5,\n",
    "        patience=5,\n",
    "        mode='max',\n",
    "        min_lr=1e-6\n",
    "    ),\n",
    "    tf.keras.callbacks.ModelCheckpoint(\n",
    "        'best_model.h5',\n",
    "        monitor='val_iou_metric',\n",
    "        mode='max',\n",
    "        save_best_only=True\n",
    "    ),\n",
    "    # Custom learning rate schedule\n",
    "    tf.keras.callbacks.LearningRateScheduler(\n",
    "        lambda epoch: 1e-4 * (0.95 ** epoch)\n",
    "    )\n",
    "]\n",
    "\n",
    "# Train with a larger batch size if memory allows\n",
    "history = model.fit(\n",
    "    train_sequences,\n",
    "    train_labels,\n",
    "    validation_data=(val_sequences, val_labels),\n",
    "    epochs=100,\n",
    "    batch_size=8,  # Increase if memory allows\n",
    "    class_weight=class_weight,\n",
    "    callbacks=callbacks,\n",
    "    shuffle=True\n",
    ")"
   ]
  },
  {
   "cell_type": "code",
   "execution_count": 8,
   "id": "dba6860c",
   "metadata": {},
   "outputs": [
    {
     "name": "stdout",
     "output_type": "stream",
     "text": [
      "1/1 [==============================] - 4s 4s/step - loss: -15.3267 - accuracy: 2.9590e-04\n",
      "Validation Accuracy: 0.03%\n",
      "1/1 [==============================] - 0s 332ms/step\n"
     ]
    }
   ],
   "source": [
    "# Evaluate on the validation set\n",
    "val_loss, val_acc = model.evaluate(val_sequences, val_labels)\n",
    "print(f\"Validation Accuracy: {val_acc * 100:.2f}%\")\n",
    "\n",
    "# Predict the next fire spread\n",
    "predictions = model.predict(val_sequences[:1])"
   ]
  }
 ],
 "metadata": {
  "kernelspec": {
   "display_name": "Python 3 (ipykernel)",
   "language": "python",
   "name": "python3"
  },
  "language_info": {
   "codemirror_mode": {
    "name": "ipython",
    "version": 3
   },
   "file_extension": ".py",
   "mimetype": "text/x-python",
   "name": "python",
   "nbconvert_exporter": "python",
   "pygments_lexer": "ipython3",
   "version": "3.10.12"
  }
 },
 "nbformat": 4,
 "nbformat_minor": 5
}
